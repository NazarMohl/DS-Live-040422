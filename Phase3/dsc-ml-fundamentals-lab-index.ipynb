{
 "cells": [
  {
   "cell_type": "code",
   "execution_count": 4,
   "metadata": {},
   "outputs": [],
   "source": [
    "import pandas as pd\n",
    "from sklearn.model_selection import train_test_split\n",
    "from sklearn.model_selection import cross_val_score\n",
    "from sklearn.linear_model import LinearRegression\n",
    "from sklearn.linear_model import Ridge\n",
    "from sklearn.metrics import mean_squared_error\n",
    "from sklearn.preprocessing import PolynomialFeatures\n",
    "from sklearn.preprocessing import StandardScaler\n",
    "\n",
    "df = pd.read_csv(\"data/blood_pressure.csv\", index_col=0)\n",
    "X = df.drop('SBP', axis=1)\n",
    "y = df['SBP']"
   ]
  },
  {
   "cell_type": "code",
   "execution_count": 7,
   "metadata": {},
   "outputs": [
    {
     "data": {
      "text/plain": [
       "12.13652309876959"
      ]
     },
     "execution_count": 7,
     "metadata": {},
     "output_type": "execute_result"
    }
   ],
   "source": [
    "X_train, X_test, y_train, y_test = train_test_split(X, y, random_state = 2021)\n",
    "\n",
    "# baseline_model = LinearRegression()\n",
    "# baseline_model.fit(X_train, y_train)\n",
    "\n",
    "# y_pred_baseline = baseline_model.predict(X_train)\n",
    "# baseline_rmse = mean_squared_error(y_pred_baseline, y_train, squared=False)\n",
    "\n",
    "# baseline_cv = cross_val_score(baseline_model, X_train, y_train,\n",
    "#                 scoring=('neg_root_mean_squared_error'))\n",
    "# baseline_cv_rmse = -(baseline_cv.mean())\n",
    "\n",
    "poly = PolynomialFeatures()\n",
    "poly.fit(X_train)\n",
    "X_train_poly = poly.transform(X_train)\n",
    "\n",
    "# baseline_model.fit(X_train_poly, y_train)\n",
    "# y_pred_poly = baseline_model.predict(X_train_poly)\n",
    "# poly_rmse = mean_squared_error(y_train, y_pred_poly, squared = False)\n",
    "\n",
    "# poly_cv = cross_val_score(baseline_model, X_train_poly, y_train, scoring = 'neg_root_mean_squared_error')\n",
    "# poly_cv_rmse = -(poly_cv.mean())\n",
    "\n",
    "scaler = StandardScaler()\n",
    "scaler.fit(X_train_poly)\n",
    "X_train_scaled = scaler.fit_transform(X_train_poly)\n",
    "\n",
    "ridge_model = Ridge(random_state=42)\n",
    "ridge_model.fit(X_train_scaled,y_train)\n",
    "\n",
    "y_pred_scaled = ridge_model.predict(X_train_scaled)\n",
    "ridge_rmse = mean_squared_error(y_train, y_pred_scaled, squared=False)\n",
    "\n",
    "scaled_cv = cross_val_score(ridge_model, X_train_scaled, y_train, scoring=\"neg_root_mean_squared_error\")\n",
    "ridge_cv_rmse = -(scaled_cv.mean())\n",
    "\n",
    "\n",
    "final_model = Ridge(alpha=100, random_state=42)\n",
    "final_model.fit(X_train_scaled,y_train)\n",
    "\n",
    "X_test_poly = poly.transform(X_test)\n",
    "X_test_scaled = scaler.fit_transform(X_test_poly)\n",
    "\n",
    "# Generate predictions\n",
    "y_pred_test = final_model.predict(X_test_scaled)\n",
    "\n",
    "# Find RMSE\n",
    "test_rmse = mean_squared_error(y_test, y_pred_test, squared=False)\n",
    "\n",
    "test_rmse"
   ]
  },
  {
   "cell_type": "code",
   "execution_count": null,
   "metadata": {},
   "outputs": [],
   "source": []
  }
 ],
 "metadata": {
  "kernelspec": {
   "display_name": "Python (learn-env)",
   "language": "python",
   "name": "learn-env"
  },
  "language_info": {
   "codemirror_mode": {
    "name": "ipython",
    "version": 3
   },
   "file_extension": ".py",
   "mimetype": "text/x-python",
   "name": "python",
   "nbconvert_exporter": "python",
   "pygments_lexer": "ipython3",
   "version": "3.8.5"
  }
 },
 "nbformat": 4,
 "nbformat_minor": 4
}
