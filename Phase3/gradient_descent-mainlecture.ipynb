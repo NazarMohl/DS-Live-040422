{
 "cells": [
  {
   "cell_type": "markdown",
   "metadata": {
    "toc": true
   },
   "source": [
    "<h1>Table of Contents<span class=\"tocSkip\"></span></h1>\n",
    "<div class=\"toc\"><ul class=\"toc-item\"><li><span><a href=\"#Objectives\" data-toc-modified-id=\"Objectives-1\"><span class=\"toc-item-num\">1&nbsp;&nbsp;</span>Objectives</a></span></li><li><span><a href=\"#Solving-the-Line-of-Best-Fit-by-Guessing\" data-toc-modified-id=\"Solving-the-Line-of-Best-Fit-by-Guessing-2\"><span class=\"toc-item-num\">2&nbsp;&nbsp;</span>Solving the Line of Best Fit by Guessing</a></span></li><li><span><a href=\"#The-Loss-Function\" data-toc-modified-id=\"The-Loss-Function-3\"><span class=\"toc-item-num\">3&nbsp;&nbsp;</span>The Loss Function</a></span></li><li><span><a href=\"#The-Cost-Function\" data-toc-modified-id=\"The-Cost-Function-4\"><span class=\"toc-item-num\">4&nbsp;&nbsp;</span>The Cost Function</a></span></li><li><span><a href=\"#Better-Way-of-Guessing:-Gradient-Descent\" data-toc-modified-id=\"Better-Way-of-Guessing:-Gradient-Descent-5\"><span class=\"toc-item-num\">5&nbsp;&nbsp;</span>Better Way of Guessing: Gradient Descent</a></span><ul class=\"toc-item\"><li><span><a href=\"#Gradient-Descent-in-Words\" data-toc-modified-id=\"Gradient-Descent-in-Words-5.1\"><span class=\"toc-item-num\">5.1&nbsp;&nbsp;</span>Gradient Descent in Words</a></span></li><li><span><a href=\"#Stepping-Down-a-Hill:-Step-Size\" data-toc-modified-id=\"Stepping-Down-a-Hill:-Step-Size-5.2\"><span class=\"toc-item-num\">5.2&nbsp;&nbsp;</span>Stepping Down a Hill: Step Size</a></span></li><li><span><a href=\"#Putting-It-All-Together\" data-toc-modified-id=\"Putting-It-All-Together-5.3\"><span class=\"toc-item-num\">5.3&nbsp;&nbsp;</span>Putting It All Together</a></span></li></ul></li><li><span><a href=\"#Level-Up:-Gradient-Descent-Walk-Through\" data-toc-modified-id=\"Level-Up:-Gradient-Descent-Walk-Through-6\"><span class=\"toc-item-num\">6&nbsp;&nbsp;</span>Level Up: Gradient Descent Walk Through</a></span></li></ul></div>"
   ]
  },
  {
   "cell_type": "code",
   "execution_count": 1,
   "metadata": {},
   "outputs": [],
   "source": [
    "import numpy as np\n",
    "import matplotlib.pyplot as plt\n",
    "%matplotlib inline"
   ]
  },
  {
   "cell_type": "markdown",
   "metadata": {
    "heading_collapsed": true
   },
   "source": [
    "# Objectives"
   ]
  },
  {
   "cell_type": "markdown",
   "metadata": {
    "hidden": true
   },
   "source": [
    "- Explain and use the concept of a gradient\n",
    "- Explain the algorithm of gradient descent\n",
    "- Describe the effect of the \"learning rate\" in the algorithm"
   ]
  },
  {
   "cell_type": "markdown",
   "metadata": {
    "heading_collapsed": true
   },
   "source": [
    "# Solving the Line of Best Fit by Guessing"
   ]
  },
  {
   "cell_type": "markdown",
   "metadata": {
    "hidden": true
   },
   "source": [
    "Let's say we have some data below: "
   ]
  },
  {
   "cell_type": "code",
   "execution_count": 3,
   "metadata": {
    "hidden": true
   },
   "outputs": [],
   "source": [
    "# Randomly created data in x & y\n",
    "np.random.seed(27)\n",
    "\n",
    "x = np.random.rand(30, 1).reshape(30)\n",
    "y_randterm = np.random.normal(0, 3, 30)\n",
    "y = 3 + 50 * x + y_randterm"
   ]
  },
  {
   "cell_type": "markdown",
   "metadata": {
    "hidden": true
   },
   "source": [
    "Here's the data plotted out:"
   ]
  },
  {
   "cell_type": "code",
   "execution_count": 4,
   "metadata": {
    "hidden": true
   },
   "outputs": [
    {
     "data": {
      "image/png": "[encoded data removed]",
      "text/plain": [
       "<Figure size 576x432 with 1 Axes>"
      ]
     },
     "metadata": {
      "needs_background": "light"
     },
     "output_type": "display_data"
    }
   ],
   "source": [
    "f, ax = plt.subplots(figsize=(8, 6))\n",
    "ax.scatter(x, y)\n",
    "\n",
    "ax.set_title('Data Points to Model')\n",
    "ax.set_xlabel('x', fontsize=14)\n",
    "ax.set_ylabel('y', fontsize=14)\n",
    "ax.set_xlim(0, 1)\n",
    "ax.set_ylim(0, 60)\n",
    "plt.tight_layout()"
   ]
  },
  {
   "cell_type": "markdown",
   "metadata": {
    "hidden": true
   },
   "source": [
    "If we wanted to make a best-fit line, what would you guess? Let's create a couple functions to make this easier to make a guess."
   ]
  },
  {
   "cell_type": "code",
   "execution_count": 5,
   "metadata": {
    "code_folding": [
     8,
     24
    ],
    "hidden": true
   },
   "outputs": [],
   "source": [
    "# Plotting a guess of a regression line\n",
    "def regression_formula(x, a, b):\n",
    "    return a*x + b\n",
    "\n",
    "def plot_data_and_guess(slope, intercept, ax, x1=x, x2=y, **kwargs):\n",
    "    '''\n",
    "    Plot our data and regression line on the given axis.\n",
    "\n",
    "    Arguments:\n",
    "        slope : float\n",
    "            Value for the slope the regression line.\n",
    "            \n",
    "        intercept : float\n",
    "            Value for the intercept the regression line.\n",
    "        \n",
    "        ax : Axes\n",
    "            Axis to plot data and regression line\n",
    "        \n",
    "        x1 : array-like\n",
    "            Values along the x-axis\n",
    "        \n",
    "        x2 : array-like\n",
    "            Values along the y-axis\n",
    "        \n",
    "    Returns:\n",
    "        fig : Figure\n",
    "\n",
    "        ax : Axes\n",
    "    '''\n",
    "    # Plot data and regression line\n",
    "    ax.scatter(x1, x2)\n",
    "    yhat = regression_formula(x1, slope, intercept)\n",
    "    ax.plot(x1, yhat, 'r-', **kwargs)\n",
    "    \n",
    "    # Embelishments\n",
    "    ax.set_title('Data Points to Model')\n",
    "    ax.set_xlabel('x', fontsize=14)\n",
    "    ax.set_ylabel('y', fontsize=14)\n",
    "    ax.set_xlim(0, 1)\n",
    "    ax.set_ylim(0, 60)\n",
    "\n",
    "    return ax"
   ]
  },
  {
   "cell_type": "markdown",
   "metadata": {
    "hidden": true
   },
   "source": [
    "So what do you think the regression parameters are?"
   ]
  },
  {
   "cell_type": "code",
   "execution_count": 31,
   "metadata": {
    "hidden": true,
    "scrolled": true
   },
   "outputs": [
    {
     "data": {
      "text/plain": [
       "<AxesSubplot:title={'center':'Data Points to Model'}, xlabel='x', ylabel='y'>"
      ]
     },
     "execution_count": 31,
     "metadata": {},
     "output_type": "execute_result"
    },
    {
     "data": {
      "image/png": "[encoded data removed]",
      "text/plain": [
       "<Figure size 576x432 with 1 Axes>"
      ]
     },
     "metadata": {
      "needs_background": "light"
     },
     "output_type": "display_data"
    }
   ],
   "source": [
    "# Our guess\n",
    "guess = {\n",
    "    'slope': 49,\n",
    "    'intercept': 5,\n",
    "    'color':'orange'\n",
    "}\n",
    "\n",
    "f, ax = plt.subplots(figsize=(8, 6))\n",
    "plot_data_and_guess(**guess, ax=ax)"
   ]
  },
  {
   "cell_type": "markdown",
   "metadata": {
    "hidden": true
   },
   "source": [
    "What would be your next guess be? \n",
    "\n",
    "- How can we tell when our guess is \"better\"?\n",
    "- Could we formalize this?"
   ]
  },
  {
   "cell_type": "markdown",
   "metadata": {
    "heading_collapsed": true
   },
   "source": [
    "# The Loss Function"
   ]
  },
  {
   "cell_type": "markdown",
   "metadata": {
    "hidden": true
   },
   "source": [
    "One way we can know how well our guess or _model_ did is to compare the predicted values with the actual values. These are the _residuals_."
   ]
  },
  {
   "cell_type": "markdown",
   "metadata": {
    "hidden": true
   },
   "source": [
    "So this would give us the error for each data point:\n",
    "\n",
    "$$ r_i = \\hat{y}_i - y_i $$"
   ]
  },
  {
   "cell_type": "code",
   "execution_count": 13,
   "metadata": {
    "hidden": true
   },
   "outputs": [],
   "source": [
    "def calculate_residuals(x_values, y_values, slope, intercept):\n",
    "    '''Find the residulas for each data point'''\n",
    "    yhat = intercept + slope*x_values\n",
    "    errors = y_values - yhat\n",
    "    return errors"
   ]
  },
  {
   "cell_type": "markdown",
   "metadata": {
    "hidden": true
   },
   "source": [
    "Then we can go further by having just one number to represent how faithful our model was to the actual y-values."
   ]
  },
  {
   "cell_type": "markdown",
   "metadata": {
    "hidden": true
   },
   "source": [
    "This leads us to the idea of the **mean squared error** or **MSE**. This is all the residuals squared and then averaged:\n",
    "\n",
    "$$ MSE = \\frac{1}{n} \\sum_{i}^{n} (\\hat{y}_i - y_i)^2 $$"
   ]
  },
  {
   "cell_type": "code",
   "execution_count": 14,
   "metadata": {
    "hidden": true
   },
   "outputs": [],
   "source": [
    "def mse(x_values, y_values, slope, intercept):\n",
    "    \n",
    "    resid_sq = calculate_residuals(x_values, y_values, slope, intercept)**2 \n",
    "\n",
    "    return sum(resid_sq) / len(x_values)"
   ]
  },
  {
   "cell_type": "code",
   "execution_count": 28,
   "metadata": {
    "hidden": true
   },
   "outputs": [
    {
     "data": {
      "text/plain": [
       "8.882483399459172"
      ]
     },
     "execution_count": 28,
     "metadata": {},
     "output_type": "execute_result"
    }
   ],
   "source": [
    "# Use our guess from earlier\n",
    "slope = guess.get('slope')\n",
    "intercept = guess.get('intercept')\n",
    "\n",
    "mse(x, y, slope, intercept)"
   ]
  },
  {
   "cell_type": "markdown",
   "metadata": {
    "hidden": true
   },
   "source": [
    "> The function we use to find how bad our model did in prediction is typically called the **loss function**."
   ]
  },
  {
   "cell_type": "markdown",
   "metadata": {
    "hidden": true
   },
   "source": [
    "What we found here is great! We can now compare different models with one another.\n",
    "\n",
    "If we made a few different guesses, we could make our predictions and then calculate from the _loss function_ how good or bad our model did! We will want to find the _smallest loss_."
   ]
  },
  {
   "cell_type": "markdown",
   "metadata": {
    "heading_collapsed": true
   },
   "source": [
    "# The Cost Function"
   ]
  },
  {
   "cell_type": "markdown",
   "metadata": {
    "hidden": true
   },
   "source": [
    "Now our model changes based on the different model _parameters_ (the coefficients $\\beta_i$ for linear regression). \n",
    "\n",
    "If we imagine all the different ways we can adjust these parameters $\\vec{\\theta}$ and measure how well the model performs with the loss or **cost function** $J(\\vec{\\theta})$, we can plot this as a surface in this multidimensional plane. See the image below:"
   ]
  },
  {
   "cell_type": "markdown",
   "metadata": {
    "hidden": true
   },
   "source": [
    "![](img/gradientdescent.png)"
   ]
  },
  {
   "cell_type": "markdown",
   "metadata": {
    "hidden": true
   },
   "source": [
    "> Note that the terms **loss function** and **cost function** are frequently used interchangeably. Sometimes they are the same function, but sometimes they differ by making changes in the cost to improve _training_ or _learning_."
   ]
  },
  {
   "cell_type": "markdown",
   "metadata": {
    "hidden": true
   },
   "source": [
    "Let's try creating the cost function's curve/surface for just one parameter (slope) using our earlier data example:"
   ]
  },
  {
   "cell_type": "code",
   "execution_count": 29,
   "metadata": {
    "hidden": true
   },
   "outputs": [
    {
     "data": {
      "image/png": "[encoded data removed]",
      "text/plain": [
       "<Figure size 720x504 with 1 Axes>"
      ]
     },
     "metadata": {
      "needs_background": "light"
     },
     "output_type": "display_data"
    }
   ],
   "source": [
    "table = np.zeros((20, 2))\n",
    "# Find the MSE for different slope values\n",
    "for idx, val in enumerate(range(40, 60)):\n",
    "    table[idx, 0] = val\n",
    "    table[idx, 1] = mse(x, y, slope=val, intercept=0)\n",
    "\n",
    "plt.figure(figsize=(10, 7))\n",
    "plt.plot(table[:, 0], table[:, 1], '-')\n",
    "plt.xlabel(\"Slope Values\", fontsize=14)\n",
    "plt.ylabel(\"MSE\", fontsize=14)\n",
    "plt.title(\"MSE with changes to slope\", fontsize=16);"
   ]
  },
  {
   "cell_type": "markdown",
   "metadata": {
    "hidden": true
   },
   "source": [
    "Based on this graph, what is the optimal slope value?\n",
    "\n",
    "How could we extend this to find the best slope _and_ intercept combination?"
   ]
  },
  {
   "cell_type": "markdown",
   "metadata": {
    "heading_collapsed": true
   },
   "source": [
    "# Better Way of Guessing: Gradient Descent"
   ]
  },
  {
   "cell_type": "markdown",
   "metadata": {
    "hidden": true
   },
   "source": [
    "So this probably all sounds great! We just need to find the minimum of the cost function!\n",
    "\n",
    "But there's some bad news; we don't usually know what the cost function (which can be complicated!) \"looks\" like without trying a whole lot of different parameters $\\vec{\\theta}$. We'd need an _infinite_ number of parameter combinations to know $J(\\vec{\\theta})$ completely."
   ]
  },
  {
   "cell_type": "markdown",
   "metadata": {
    "hidden": true
   },
   "source": [
    "So what can we do?\n",
    "\n",
    "Well, we can take one \"guess\" (set of  parameters) and then measure $J(\\vec{\\theta})$. Then we can adjust our guess/parameters in a \"good\" direction, \"down the hill\". This is the basic idea of gradient descent."
   ]
  },
  {
   "cell_type": "markdown",
   "metadata": {
    "hidden": true
   },
   "source": [
    "> **Gradient descent** is an optimization procedure that uses the _gradient_ (a generalized notion of a derivative) of the cost function."
   ]
  },
  {
   "cell_type": "markdown",
   "metadata": {
    "hidden": true
   },
   "source": [
    "So how do we find this \"better\" guess? Well, we need to find the best direction to move \"downhill\" the fastest. We can do this with a generalization of the derivative called the **gradient**:\n",
    "\n",
    "$$\\begin{align}\\\\\n",
    "    \\large -\\nabla J &= -\\sum_i \\dfrac{\\partial J}{\\partial \\theta_i}\\hat{\\theta_i} \\\\\n",
    "            &= -\\frac{\\partial J}{\\partial \\theta_1}\\hat{\\theta_1} + \\dots +  \\frac{\\partial J}{\\partial \\theta_n}\\hat{\\theta_n}\n",
    "\\end{align}$$"
   ]
  },
  {
   "cell_type": "markdown",
   "metadata": {
    "hidden": true
   },
   "source": [
    "In the multivariate case, the gradient tells us how the function is changing **in each dimension**. A large value of the derivative with respect to a particular variable means that the gradient will have a large component in the corresponding direction. Therefore, **the gradient will point in the direction of steepest increase**."
   ]
  },
  {
   "cell_type": "markdown",
   "metadata": {
    "heading_collapsed": true,
    "hidden": true
   },
   "source": [
    "## Gradient Descent in Words"
   ]
  },
  {
   "cell_type": "markdown",
   "metadata": {
    "hidden": true
   },
   "source": [
    "- Make a guess at where the function attains its minimum value\n",
    "- Calculate the gradient/derivative at that point\n",
    "- Use that value to decide how to make your next guess!\n",
    "\n",
    "Repeat until we get the derivative as close as we like to 0.\n",
    "\n",
    "If we want to improve our guess at the minimum of our loss function, we'll move in the **opposite direction** of the gradient away from our last guess. Hence we are using the *gradient* of our loss function to *descend* to the minimum value of the relevant loss function."
   ]
  },
  {
   "cell_type": "markdown",
   "metadata": {
    "heading_collapsed": true,
    "hidden": true
   },
   "source": [
    "## Stepping Down a Hill: Step Size"
   ]
  },
  {
   "cell_type": "markdown",
   "metadata": {
    "hidden": true
   },
   "source": [
    "So we now have the basic idea of gradient descent of \"going down a hill\" and hopefully it's obvious that the steeper the hill, the more we can adjust our parameters to get to \"bottom\" (optimal parameters) faster.\n",
    "\n",
    "But a big question is how big of a step do we take?"
   ]
  },
  {
   "cell_type": "markdown",
   "metadata": {
    "hidden": true
   },
   "source": [
    "> The amount we adjust our parameter is determined by our **step size**."
   ]
  },
  {
   "cell_type": "markdown",
   "metadata": {
    "hidden": true
   },
   "source": [
    "If our steps are _too big_, we risk skipping over the minimum value (optimal parameters).\n",
    "\n",
    "If our steps are _too small_, it might take us too long to reach the minimum value."
   ]
  },
  {
   "cell_type": "markdown",
   "metadata": {
    "hidden": true
   },
   "source": [
    "![learning_rate](https://www.jeremyjordan.me/content/images/2018/02/Screen-Shot-2018-02-24-at-11.47.09-AM.png)"
   ]
  },
  {
   "cell_type": "markdown",
   "metadata": {
    "hidden": true
   },
   "source": [
    "Here's an elegant solution: Make the size of your step **proportional to the value of the derivative at the point where you currently are in parameter space**! If we're very far from the minimum, then our values will be large, and so we therefore can safely take a large step; if we're close to the minimum, then our values will be small, and so we should therefore take a smaller step.\n",
    "\n",
    "I said the size of the step is proportional to the value of the derivative. The constant of proportionality is often called the **\"learning rate\"**. \n",
    "\n",
    "This page helps to explain the dangers of learning rates that are too large and too small: https://www.jeremyjordan.me/nn-learning-rate/."
   ]
  },
  {
   "cell_type": "markdown",
   "metadata": {
    "hidden": true
   },
   "source": [
    "> Note there are other optimizations we can do for gradient descent that rely on adjusting our cost function or how we take steps or both."
   ]
  },
  {
   "cell_type": "markdown",
   "metadata": {
    "heading_collapsed": true,
    "hidden": true
   },
   "source": [
    "## Putting It All Together"
   ]
  },
  {
   "cell_type": "markdown",
   "metadata": {
    "hidden": true
   },
   "source": [
    "The general algorithm looks like this:\n",
    "\n",
    "We'll make a guess, $\\vec{s}$, at where our loss function attains a minimum. If we're not happy with how close the value of the gradient there is to 0, then we'll make a new guess, and the new guess will be constructed as follows:\n",
    "\n",
    "$\\large\\vec{s}_{new} = \\vec{s}_{old} - \\alpha\\nabla f(\\vec{s}_{old})$,\n",
    "\n",
    "where $\\alpha$ is the learning rate.\n",
    "\n",
    "In the one-dimensional case, we'll have:\n",
    "\n",
    "$\\large x_{new} = x_{old} - \\alpha\\frac{df}{dx}|_{x_{old}}$."
   ]
  },
  {
   "cell_type": "markdown",
   "metadata": {
    "heading_collapsed": true
   },
   "source": [
    "# Gradient Descent Walkthrough"
   ]
  },
  {
   "cell_type": "markdown",
   "metadata": {
    "hidden": true
   },
   "source": [
    "Let's go back to our original example and implement gradient descent to find the optimal parameters (slope and intercept)."
   ]
  },
  {
   "cell_type": "code",
   "execution_count": 32,
   "metadata": {
    "hidden": true
   },
   "outputs": [
    {
     "data": {
      "image/png": "[encoded data removed]",
      "text/plain": [
       "<Figure size 576x432 with 1 Axes>"
      ]
     },
     "metadata": {
      "needs_background": "light"
     },
     "output_type": "display_data"
    }
   ],
   "source": [
    "f, ax = plt.subplots(figsize=(8, 6))\n",
    "ax.scatter(x, y)\n",
    "\n",
    "ax.set_title('Data Points to Model')\n",
    "ax.set_xlabel('x', fontsize=14)\n",
    "ax.set_ylabel('y', fontsize=14)\n",
    "\n",
    "plt.tight_layout()"
   ]
  },
  {
   "cell_type": "markdown",
   "metadata": {
    "hidden": true
   },
   "source": [
    "First we need to find the gradient for the cost function (2-dimensions: $a$ & $b$; slope & intercept):\n",
    "\n",
    "$$ \\frac{\\partial}{\\partial b}\\frac{1}{n}\\Sigma(y_i - (b + ax_i))^2 = -\\frac{2}{n}\\Sigma (y_i-ax_i - b)$$\n",
    "\n",
    "$$ \\frac{\\partial}{\\partial a}\\frac{1}{n}\\Sigma(y_i - (b + ax_i))^2 = -\\frac{2}{n}\\Sigma x_i (y_i-ax_i - b)$$"
   ]
  },
  {
   "cell_type": "markdown",
   "metadata": {
    "hidden": true
   },
   "source": [
    "Let's formalize this into a function:"
   ]
  },
  {
   "cell_type": "code",
   "execution_count": 33,
   "metadata": {
    "hidden": true
   },
   "outputs": [],
   "source": [
    "def partial_deriv(a, b, x_i, y_i, respect_to):\n",
    "    '''\n",
    "    Get the partial derivative for cost function with respect to slope (a) \n",
    "    or intercept (b).\n",
    "    '''\n",
    "    if respect_to == 'b': # intercept\n",
    "        return (y_i - (a * x_i + b))\n",
    "    elif respect_to == 'a': # slope\n",
    "        return (x_i * (y_i - (a * x_i + b)))\n",
    "    else:\n",
    "        print('Choose either respect_to: a or b ')\n",
    "        return 0"
   ]
  },
  {
   "cell_type": "markdown",
   "metadata": {},
   "source": [
    "Observe: In the code above we've left out both the factors of two and the averages!\n",
    "\n",
    "- We'll take care of the averages below, but this is easily done because **the derivative of a sum is equal to the sum of the derivatives**: $\\frac{d}{dx}[f(x) + g(x)] = \\frac{df}{dx} + \\frac{dg}{dx}$.\n",
    "\n",
    "- The factors of two won't make any difference to our goals. Very often the cost function associated with some modeling task will be something like MSE and so have a squared term, and so then when we differentiate it we'll gain a factor of two. Clearly, minimizing $f(\\beta)$ and minimizing $2f(\\beta)$ will yield the same optimal $\\beta$, and so it's often convenient to leave off the factor of two from the expression of the derivative and so minimize the **half mean squared error** function: $\\frac{1}{2}\\Sigma(y - \\hat{y})^2$."
   ]
  },
  {
   "cell_type": "markdown",
   "metadata": {
    "hidden": true
   },
   "source": [
    "Next let's define the step we take (amount we adjust the parameters by) using the gradient and learning rate:"
   ]
  },
  {
   "cell_type": "code",
   "execution_count": 34,
   "metadata": {
    "hidden": true
   },
   "outputs": [],
   "source": [
    "def step_gradient(a, b, x, y, learning_rate):\n",
    "    db = 0\n",
    "    da = 0 \n",
    "    # For each data point, update the derivative for the slope & intercept\n",
    "    N = len(x)\n",
    "    for i in range(N):\n",
    "        \n",
    "        # Partial derivatives of loss/cost function with respect to b & a\n",
    "        # Here's where we're taking our averages. Notice that we're leaving\n",
    "        # off the factors of 2.\n",
    "        db +=  -(1/N) * partial_deriv(a, b, x[i], y[i], respect_to='b')\n",
    "        da +=  -(1/N) * partial_deriv(a, b, x[i], y[i], respect_to='a')\n",
    "        \n",
    "    # Adjust the slope & intercept by the gradient\n",
    "    new_b = b - (learning_rate * db)\n",
    "    new_a = a - (learning_rate * da)\n",
    "    \n",
    "    return (new_a, new_b)"
   ]
  },
  {
   "cell_type": "markdown",
   "metadata": {
    "hidden": true
   },
   "source": [
    "Let's try it out and keep track of our guesses:"
   ]
  },
  {
   "cell_type": "code",
   "execution_count": 35,
   "metadata": {
    "hidden": true
   },
   "outputs": [],
   "source": [
    "guesses = []\n",
    "alpha = 0.05"
   ]
  },
  {
   "cell_type": "code",
   "execution_count": 36,
   "metadata": {
    "hidden": true
   },
   "outputs": [],
   "source": [
    "# Our guess\n",
    "guess = {\n",
    "    'slope': 60,\n",
    "    'intercept': 10\n",
    "}\n",
    "\n",
    "guesses.append(guess)"
   ]
  },
  {
   "cell_type": "code",
   "execution_count": 37,
   "metadata": {
    "hidden": true,
    "scrolled": false
   },
   "outputs": [
    {
     "data": {
      "image/png": "[encoded data removed]",
      "text/plain": [
       "<Figure size 576x432 with 1 Axes>"
      ]
     },
     "metadata": {
      "needs_background": "light"
     },
     "output_type": "display_data"
    }
   ],
   "source": [
    "f, ax = plt.subplots(figsize=(8, 6))\n",
    "plot_data_and_guess(**guess, ax=ax);"
   ]
  },
  {
   "cell_type": "code",
   "execution_count": 38,
   "metadata": {
    "hidden": true
   },
   "outputs": [
    {
     "data": {
      "text/plain": [
       "(59.66283387366331, 9.453693760762704)"
      ]
     },
     "execution_count": 38,
     "metadata": {},
     "output_type": "execute_result"
    }
   ],
   "source": [
    "step = step_gradient(guess['slope'], guess['intercept'], x, y, learning_rate=alpha)\n",
    "step"
   ]
  },
  {
   "cell_type": "code",
   "execution_count": 39,
   "metadata": {
    "hidden": true
   },
   "outputs": [
    {
     "data": {
      "text/plain": [
       "139.0871456161772"
      ]
     },
     "execution_count": 39,
     "metadata": {},
     "output_type": "execute_result"
    }
   ],
   "source": [
    "mse(x, y, guess['slope'], guess['intercept'])"
   ]
  },
  {
   "cell_type": "markdown",
   "metadata": {
    "hidden": true
   },
   "source": [
    "Let's update our guess and try again:"
   ]
  },
  {
   "cell_type": "code",
   "execution_count": 40,
   "metadata": {
    "hidden": true
   },
   "outputs": [
    {
     "data": {
      "text/plain": [
       "(59.346287082723265, 8.943633019184857)"
      ]
     },
     "metadata": {},
     "output_type": "display_data"
    },
    {
     "data": {
      "text/plain": [
       "123.13695112421657"
      ]
     },
     "metadata": {},
     "output_type": "display_data"
    },
    {
     "data": {
      "image/png": "[encoded data removed]",
      "text/plain": [
       "<Figure size 576x432 with 1 Axes>"
      ]
     },
     "metadata": {
      "needs_background": "light"
     },
     "output_type": "display_data"
    }
   ],
   "source": [
    "# Our guess using the new step\n",
    "new_slope, new_intercept = step\n",
    "guess = {\n",
    "    'slope': new_slope,\n",
    "    'intercept': new_intercept\n",
    "}\n",
    "guesses.append(guess)\n",
    "\n",
    "# Getting adjusted parameters\n",
    "step = step_gradient(guess['slope'], guess['intercept'], x, y, learning_rate=alpha)\n",
    "display(step)\n",
    "display(mse(x, y, guess['slope'], guess['intercept']))\n",
    "\n",
    "# Plotting out our new parameters\n",
    "f, ax = plt.subplots(figsize=(8, 6))\n",
    "plot_data_and_guess(**guess, ax=ax);"
   ]
  },
  {
   "cell_type": "markdown",
   "metadata": {
    "hidden": true
   },
   "source": [
    "Let's repeat this another 200 times:"
   ]
  },
  {
   "cell_type": "code",
   "execution_count": 49,
   "metadata": {
    "hidden": true,
    "scrolled": true
   },
   "outputs": [
    {
     "name": "stdout",
     "output_type": "stream",
     "text": [
      "Step # 0:\n"
     ]
    },
    {
     "data": {
      "text/plain": [
       "(48.74551034901608, 5.032130632710681)"
      ]
     },
     "metadata": {},
     "output_type": "display_data"
    },
    {
     "data": {
      "text/plain": [
       "8.863146598411342"
      ]
     },
     "metadata": {},
     "output_type": "display_data"
    },
    {
     "name": "stdout",
     "output_type": "stream",
     "text": [
      "------------------------------\n",
      "Step # 10:\n"
     ]
    },
    {
     "data": {
      "text/plain": [
       "(48.74248679945881, 5.033843176910706)"
      ]
     },
     "metadata": {},
     "output_type": "display_data"
    },
    {
     "data": {
      "text/plain": [
       "8.863098059948062"
      ]
     },
     "metadata": {},
     "output_type": "display_data"
    },
    {
     "name": "stdout",
     "output_type": "stream",
     "text": [
      "------------------------------\n",
      "Step # 20:\n"
     ]
    },
    {
     "data": {
      "text/plain": [
       "(48.73955974201067, 5.035501067797236)"
      ]
     },
     "metadata": {},
     "output_type": "display_data"
    },
    {
     "data": {
      "text/plain": [
       "8.863052570116116"
      ]
     },
     "metadata": {},
     "output_type": "display_data"
    },
    {
     "name": "stdout",
     "output_type": "stream",
     "text": [
      "------------------------------\n",
      "Step # 30:\n"
     ]
    },
    {
     "data": {
      "text/plain": [
       "(48.73672609726879, 5.03710604954988)"
      ]
     },
     "metadata": {},
     "output_type": "display_data"
    },
    {
     "data": {
      "text/plain": [
       "8.863009937435322"
      ]
     },
     "metadata": {},
     "output_type": "display_data"
    },
    {
     "name": "stdout",
     "output_type": "stream",
     "text": [
      "------------------------------\n",
      "Step # 40:\n"
     ]
    },
    {
     "data": {
      "text/plain": [
       "(48.73398288410491, 5.038659810685342)"
      ]
     },
     "metadata": {},
     "output_type": "display_data"
    },
    {
     "data": {
      "text/plain": [
       "8.86296998245213"
      ]
     },
     "metadata": {},
     "output_type": "display_data"
    },
    {
     "name": "stdout",
     "output_type": "stream",
     "text": [
      "------------------------------\n",
      "Step # 50:\n"
     ]
    },
    {
     "data": {
      "text/plain": [
       "(48.73132721652909, 5.040163985833806)"
      ]
     },
     "metadata": {},
     "output_type": "display_data"
    },
    {
     "data": {
      "text/plain": [
       "8.862932536984179"
      ]
     },
     "metadata": {},
     "output_type": "display_data"
    },
    {
     "name": "stdout",
     "output_type": "stream",
     "text": [
      "------------------------------\n",
      "Step # 60:\n"
     ]
    },
    {
     "data": {
      "text/plain": [
       "(48.728756300653416, 5.041620157458659)"
      ]
     },
     "metadata": {},
     "output_type": "display_data"
    },
    {
     "data": {
      "text/plain": [
       "8.862897443412411"
      ]
     },
     "metadata": {},
     "output_type": "display_data"
    },
    {
     "name": "stdout",
     "output_type": "stream",
     "text": [
      "------------------------------\n",
      "Step # 70:\n"
     ]
    },
    {
     "data": {
      "text/plain": [
       "(48.726267431752845, 5.043029857521311)"
      ]
     },
     "metadata": {},
     "output_type": "display_data"
    },
    {
     "data": {
      "text/plain": [
       "8.862864554017612"
      ]
     },
     "metadata": {},
     "output_type": "display_data"
    },
    {
     "name": "stdout",
     "output_type": "stream",
     "text": [
      "------------------------------\n",
      "Step # 80:\n"
     ]
    },
    {
     "data": {
      "text/plain": [
       "(48.72385799141958, 5.044394569092886)"
      ]
     },
     "metadata": {},
     "output_type": "display_data"
    },
    {
     "data": {
      "text/plain": [
       "8.86283373035857"
      ]
     },
     "metadata": {},
     "output_type": "display_data"
    },
    {
     "name": "stdout",
     "output_type": "stream",
     "text": [
      "------------------------------\n",
      "Step # 90:\n"
     ]
    },
    {
     "data": {
      "text/plain": [
       "(48.72152544480847, 5.045715727914494)"
      ]
     },
     "metadata": {},
     "output_type": "display_data"
    },
    {
     "data": {
      "text/plain": [
       "8.862804842689387"
      ]
     },
     "metadata": {},
     "output_type": "display_data"
    },
    {
     "name": "stdout",
     "output_type": "stream",
     "text": [
      "------------------------------\n",
      "Step # 100:\n"
     ]
    },
    {
     "data": {
      "text/plain": [
       "(48.71926733797016, 5.046994723907691)"
      ]
     },
     "metadata": {},
     "output_type": "display_data"
    },
    {
     "data": {
      "text/plain": [
       "8.862777769413318"
      ]
     },
     "metadata": {},
     "output_type": "display_data"
    },
    {
     "name": "stdout",
     "output_type": "stream",
     "text": [
      "------------------------------\n",
      "Step # 110:\n"
     ]
    },
    {
     "data": {
      "text/plain": [
       "(48.7170812952695, 5.04823290263674)"
      ]
     },
     "metadata": {},
     "output_type": "display_data"
    },
    {
     "data": {
      "text/plain": [
       "8.86275239657092"
      ]
     },
     "metadata": {},
     "output_type": "display_data"
    },
    {
     "name": "stdout",
     "output_type": "stream",
     "text": [
      "------------------------------\n",
      "Step # 120:\n"
     ]
    },
    {
     "data": {
      "text/plain": [
       "(48.71496501688618, 5.0494315667242144)"
      ]
     },
     "metadata": {},
     "output_type": "display_data"
    },
    {
     "data": {
      "text/plain": [
       "8.862728617360398"
      ]
     },
     "metadata": {},
     "output_type": "display_data"
    },
    {
     "name": "stdout",
     "output_type": "stream",
     "text": [
      "------------------------------\n",
      "Step # 130:\n"
     ]
    },
    {
     "data": {
      "text/plain": [
       "(48.712916276395276, 5.0505919772214165)"
      ]
     },
     "metadata": {},
     "output_type": "display_data"
    },
    {
     "data": {
      "text/plain": [
       "8.86270633168802"
      ]
     },
     "metadata": {},
     "output_type": "display_data"
    },
    {
     "name": "stdout",
     "output_type": "stream",
     "text": [
      "------------------------------\n",
      "Step # 140:\n"
     ]
    },
    {
     "data": {
      "text/plain": [
       "(48.710932918424895, 5.051715354935068)"
      ]
     },
     "metadata": {},
     "output_type": "display_data"
    },
    {
     "data": {
      "text/plain": [
       "8.862685445746795"
      ]
     },
     "metadata": {},
     "output_type": "display_data"
    },
    {
     "name": "stdout",
     "output_type": "stream",
     "text": [
      "------------------------------\n",
      "Step # 150:\n"
     ]
    },
    {
     "data": {
      "text/plain": [
       "(48.70901285638866, 5.052802881711641)"
      ]
     },
     "metadata": {},
     "output_type": "display_data"
    },
    {
     "data": {
      "text/plain": [
       "8.862665871621603"
      ]
     },
     "metadata": {},
     "output_type": "display_data"
    },
    {
     "name": "stdout",
     "output_type": "stream",
     "text": [
      "------------------------------\n",
      "Step # 160:\n"
     ]
    },
    {
     "data": {
      "text/plain": [
       "(48.707154070290535, 5.053855701680733)"
      ]
     },
     "metadata": {},
     "output_type": "display_data"
    },
    {
     "data": {
      "text/plain": [
       "8.862647526919174"
      ]
     },
     "metadata": {},
     "output_type": "display_data"
    },
    {
     "name": "stdout",
     "output_type": "stream",
     "text": [
      "------------------------------\n",
      "Step # 170:\n"
     ]
    },
    {
     "data": {
      "text/plain": [
       "(48.70535460459964, 5.054874922458736)"
      ]
     },
     "metadata": {},
     "output_type": "display_data"
    },
    {
     "data": {
      "text/plain": [
       "8.862630334421215"
      ]
     },
     "metadata": {},
     "output_type": "display_data"
    },
    {
     "name": "stdout",
     "output_type": "stream",
     "text": [
      "------------------------------\n",
      "Step # 180:\n"
     ]
    },
    {
     "data": {
      "text/plain": [
       "(48.70361256619298, 5.055861616314105)"
      ]
     },
     "metadata": {},
     "output_type": "display_data"
    },
    {
     "data": {
      "text/plain": [
       "8.862614221759424"
      ]
     },
     "metadata": {},
     "output_type": "display_data"
    },
    {
     "name": "stdout",
     "output_type": "stream",
     "text": [
      "------------------------------\n",
      "Step # 190:\n"
     ]
    },
    {
     "data": {
      "text/plain": [
       "(48.701926122363766, 5.056816821295435)"
      ]
     },
     "metadata": {},
     "output_type": "display_data"
    },
    {
     "data": {
      "text/plain": [
       "8.86259912111083"
      ]
     },
     "metadata": {},
     "output_type": "display_data"
    },
    {
     "name": "stdout",
     "output_type": "stream",
     "text": [
      "------------------------------\n",
      "Step # 200:\n"
     ]
    },
    {
     "data": {
      "text/plain": [
       "(48.70029349889332, 5.0577415423235355)"
      ]
     },
     "metadata": {},
     "output_type": "display_data"
    },
    {
     "data": {
      "text/plain": [
       "8.862584968912332"
      ]
     },
     "metadata": {},
     "output_type": "display_data"
    },
    {
     "name": "stdout",
     "output_type": "stream",
     "text": [
      "------------------------------\n",
      "Step # 210:\n"
     ]
    },
    {
     "data": {
      "text/plain": [
       "(48.698712978184595, 5.058636752248658)"
      ]
     },
     "metadata": {},
     "output_type": "display_data"
    },
    {
     "data": {
      "text/plain": [
       "8.862571705593155"
      ]
     },
     "metadata": {},
     "output_type": "display_data"
    },
    {
     "name": "stdout",
     "output_type": "stream",
     "text": [
      "------------------------------\n",
      "Step # 220:\n"
     ]
    },
    {
     "data": {
      "text/plain": [
       "(48.697182897455036, 5.059503392873973)"
      ]
     },
     "metadata": {},
     "output_type": "display_data"
    },
    {
     "data": {
      "text/plain": [
       "8.862559275324044"
      ]
     },
     "metadata": {},
     "output_type": "display_data"
    },
    {
     "name": "stdout",
     "output_type": "stream",
     "text": [
      "------------------------------\n",
      "Step # 230:\n"
     ]
    },
    {
     "data": {
      "text/plain": [
       "(48.695701646987374, 5.060342375946401)"
      ]
     },
     "metadata": {},
     "output_type": "display_data"
    },
    {
     "data": {
      "text/plain": [
       "8.862547625782325"
      ]
     },
     "metadata": {},
     "output_type": "display_data"
    },
    {
     "name": "stdout",
     "output_type": "stream",
     "text": [
      "------------------------------\n",
      "Step # 240:\n"
     ]
    },
    {
     "data": {
      "text/plain": [
       "(48.694267668436055, 5.0611545841158065)"
      ]
     },
     "metadata": {},
     "output_type": "display_data"
    },
    {
     "data": {
      "text/plain": [
       "8.86253670793163"
      ]
     },
     "metadata": {},
     "output_type": "display_data"
    },
    {
     "name": "stdout",
     "output_type": "stream",
     "text": [
      "------------------------------\n"
     ]
    }
   ],
   "source": [
    "for i in range(250):\n",
    "    # Our guess using the new step\n",
    "    new_slope, new_intercept = step\n",
    "    guess = {\n",
    "        'slope': new_slope,\n",
    "        'intercept': new_intercept\n",
    "    }\n",
    "    guesses.append(guess)\n",
    "\n",
    "    # Getting adjusted parameters\n",
    "    step = step_gradient(guess['slope'], guess['intercept'], x, y, learning_rate=alpha)\n",
    "    #  Only display every 10\n",
    "    if (i % 10) == 0:\n",
    "        print(f'Step # {i}:')\n",
    "        display(step)\n",
    "        display(mse(x, y, guess['slope'], guess['intercept']))\n",
    "        print('-'*30)"
   ]
  },
  {
   "cell_type": "markdown",
   "metadata": {
    "hidden": true
   },
   "source": [
    "What does our final result look like?"
   ]
  },
  {
   "cell_type": "code",
   "execution_count": 47,
   "metadata": {
    "hidden": true
   },
   "outputs": [
    {
     "data": {
      "image/png": "[encoded data removed]",
      "text/plain": [
       "<Figure size 576x432 with 1 Axes>"
      ]
     },
     "metadata": {
      "needs_background": "light"
     },
     "output_type": "display_data"
    }
   ],
   "source": [
    "# Plotting out our new parameters\n",
    "f, ax = plt.subplots(figsize=(8, 6))\n",
    "plot_data_and_guess(**guesses[-1], ax=ax);"
   ]
  },
  {
   "cell_type": "markdown",
   "metadata": {
    "hidden": true
   },
   "source": [
    "Let's take a look at the MSE over the guesses:"
   ]
  },
  {
   "cell_type": "code",
   "execution_count": 48,
   "metadata": {
    "hidden": true
   },
   "outputs": [
    {
     "data": {
      "image/png": "[encoded data removed]",
      "text/plain": [
       "<Figure size 432x288 with 1 Axes>"
      ]
     },
     "metadata": {
      "needs_background": "light"
     },
     "output_type": "display_data"
    }
   ],
   "source": [
    "mses = [\n",
    "    mse(x, y, d['slope'], d['intercept']) for d in guesses\n",
    "]\n",
    "plt.plot(range(len(mses)), mses);"
   ]
  },
  {
   "cell_type": "markdown",
   "metadata": {
    "hidden": true
   },
   "source": [
    "This was what we had for 200 iterations. What could we do to improve or speed up this method?"
   ]
  },
  {
   "cell_type": "code",
   "execution_count": null,
   "metadata": {},
   "outputs": [],
   "source": []
  }
 ],
 "metadata": {
  "kernelspec": {
   "display_name": "Python 3",
   "language": "python",
   "name": "python3"
  },
  "language_info": {
   "codemirror_mode": {
    "name": "ipython",
    "version": 3
   },
   "file_extension": ".py",
   "mimetype": "text/x-python",
   "name": "python",
   "nbconvert_exporter": "python",
   "pygments_lexer": "ipython3",
   "version": "3.8.5"
  },
  "toc": {
   "base_numbering": 1,
   "nav_menu": {},
   "number_sections": true,
   "sideBar": true,
   "skip_h1_title": false,
   "title_cell": "Table of Contents",
   "title_sidebar": "TOC",
   "toc_cell": true,
   "toc_position": {
    "height": "calc(100% - 180px)",
    "left": "10px",
    "top": "150px",
    "width": "288px"
   },
   "toc_section_display": true,
   "toc_window_display": true
  }
 },
 "nbformat": 4,
 "nbformat_minor": 4
}
